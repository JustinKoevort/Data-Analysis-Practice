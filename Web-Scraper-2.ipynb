{
 "cells": [
  {
   "cell_type": "code",
   "execution_count": 2,
   "metadata": {},
   "outputs": [
    {
     "name": "stdout",
     "output_type": "stream",
     "text": [
      "    Unnamed: 0    #             Name       Price   1h %  24h %    7d %  \\\n",
      "0          NaN  1.0      Bitcoin1BTC  $22,120.18  0.11%  1.90%   4.63%   \n",
      "1          NaN  2.0     Ethereum2ETH   $1,547.10  0.16%  3.14%   7.51%   \n",
      "2          NaN  3.0      Tether3USDT       $1.00  0.00%  0.06%   0.04%   \n",
      "3          NaN  4.0          BNB4BNB     $297.43  0.05%  1.92%  10.05%   \n",
      "4          NaN  5.0    USD Coin5USDC     $0.9999  0.00%  0.01%   0.00%   \n",
      "..         ...  ...              ...         ...    ...    ...     ...   \n",
      "95         NaN  NaN  EthereumPoWETHW       $3.74    NaN    NaN     NaN   \n",
      "96         NaN  NaN        TerraLUNA       $1.84    NaN    NaN     NaN   \n",
      "97         NaN  NaN       CasperCSPR       $0.04    NaN    NaN     NaN   \n",
      "98         NaN  NaN         NexoNEXO       $0.71    NaN    NaN     NaN   \n",
      "99         NaN  NaN        ArweaveAR      $11.49    NaN    NaN     NaN   \n",
      "\n",
      "                  Market Cap                         Volume(24h)  \\\n",
      "0   $426.86B$426,864,321,703        $27,022,338,7551,221,228 BTC   \n",
      "1   $189.43B$189,425,014,882         $9,211,477,4745,950,873 ETH   \n",
      "2     $69.53B$69,526,804,399  $41,279,850,17241,259,343,854 USDT   \n",
      "3     $46.97B$46,971,949,866           $635,335,6362,135,711 BNB   \n",
      "4     $40.94B$40,936,147,767    $4,374,552,7134,374,832,719 USDC   \n",
      "..                       ...                                 ...   \n",
      "95                       NaN                                 NaN   \n",
      "96                       NaN                                 NaN   \n",
      "97                       NaN                                 NaN   \n",
      "98                       NaN                                 NaN   \n",
      "99                       NaN                                 NaN   \n",
      "\n",
      "     Circulating Supply  Last 7 Days  Unnamed: 11  \n",
      "0        19,291,393 BTC          NaN          NaN  \n",
      "1       122,373,866 ETH          NaN          NaN  \n",
      "2   69,492,266,029 USDT          NaN          NaN  \n",
      "3       157,898,443 BNB          NaN          NaN  \n",
      "4   40,938,768,008 USDC          NaN          NaN  \n",
      "..                  ...          ...          ...  \n",
      "95                  NaN          NaN          NaN  \n",
      "96                  NaN          NaN          NaN  \n",
      "97                  NaN          NaN          NaN  \n",
      "98                  NaN          NaN          NaN  \n",
      "99                  NaN          NaN          NaN  \n",
      "\n",
      "[100 rows x 12 columns]\n"
     ]
    }
   ],
   "source": [
    "import pandas as pd\n",
    "\n",
    "url = \"https://coinmarketcap.com/\"\n",
    "df = pd.read_html(url)\n",
    "\n",
    "df2 = df[0]\n",
    "print(df2)\n",
    "\n",
    "df_full = df2[['Name', 'Price', 'Market Cap']]\n",
    "\n",
    "df_full.to_excel('coinmarketcap.xlsx')\n"
   ]
  }
 ],
 "metadata": {
  "kernelspec": {
   "display_name": "Python 3.10.9 64-bit (microsoft store)",
   "language": "python",
   "name": "python3"
  },
  "language_info": {
   "codemirror_mode": {
    "name": "ipython",
    "version": 3
   },
   "file_extension": ".py",
   "mimetype": "text/x-python",
   "name": "python",
   "nbconvert_exporter": "python",
   "pygments_lexer": "ipython3",
   "version": "3.10.9"
  },
  "orig_nbformat": 4,
  "vscode": {
   "interpreter": {
    "hash": "1a172e304941c46fa5ebf717d8b3b3bf9d597812d4011c5182072101cf44434a"
   }
  }
 },
 "nbformat": 4,
 "nbformat_minor": 2
}
